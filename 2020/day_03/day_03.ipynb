{
 "cells": [
  {
   "cell_type": "code",
   "execution_count": 105,
   "metadata": {},
   "outputs": [],
   "source": [
    "with open('input.txt', 'r') as infile:\n",
    "  tree_grid = infile.read().split('\\n')"
   ]
  },
  {
   "cell_type": "code",
   "execution_count": 106,
   "metadata": {},
   "outputs": [],
   "source": [
    "# trees_encountered = 0\n",
    "# cur_x = 0\n",
    "# tree_grid_width = len(tree_grid[0])"
   ]
  },
  {
   "cell_type": "code",
   "execution_count": 107,
   "metadata": {},
   "outputs": [],
   "source": [
    "# for line in tree_grid:\n",
    "#   if line[cur_x] == '#':\n",
    "#     trees_encountered += 1\n",
    "#   cur_x = (cur_x + 3) % tree_grid_width\n",
    "  \n",
    "# print(f'trees_encountered: {trees_encountered}')"
   ]
  },
  {
   "cell_type": "code",
   "execution_count": 108,
   "metadata": {},
   "outputs": [
    {
     "data": {
      "text/plain": [
       "'\\n  Right 1, down 1.\\n  Right 3, down 1. (This is the slope you already checked.)\\n  Right 5, down 1.\\n  Right 7, down 1.\\n  Right 1, down 2.\\n'"
      ]
     },
     "execution_count": 108,
     "metadata": {},
     "output_type": "execute_result"
    }
   ],
   "source": [
    "trees_encountered_list = []\n",
    "cur_x = 0\n",
    "tree_grid_width = len(tree_grid[0])\n",
    "\n",
    "'''\n",
    "  Right 1, down 1.\n",
    "  Right 3, down 1. (This is the slope you already checked.)\n",
    "  Right 5, down 1.\n",
    "  Right 7, down 1.\n",
    "  Right 1, down 2.\n",
    "'''"
   ]
  },
  {
   "cell_type": "code",
   "execution_count": 109,
   "metadata": {},
   "outputs": [],
   "source": [
    "for slope in [1,3,5,7]:\n",
    "  trees_encountered = 0\n",
    "  cur_x = 0\n",
    "  for line in tree_grid:\n",
    "    if line[cur_x] == '#':\n",
    "      trees_encountered += 1\n",
    "    cur_x = (cur_x + slope) % tree_grid_width\n",
    "  trees_encountered_list.append(trees_encountered)"
   ]
  },
  {
   "cell_type": "code",
   "execution_count": 110,
   "metadata": {},
   "outputs": [],
   "source": [
    "cur_x = 0\n",
    "trees_encountered = 0\n",
    "for line in tree_grid[::2]:\n",
    "  # print(f'line: {line}, cur_x: {cur_x}')\n",
    "  if line[cur_x] == '#':\n",
    "    trees_encountered += 1\n",
    "  cur_x = (cur_x + 1) % tree_grid_width\n",
    "  \n",
    "trees_encountered_list.append(trees_encountered)"
   ]
  },
  {
   "cell_type": "code",
   "execution_count": 111,
   "metadata": {},
   "outputs": [
    {
     "name": "stdout",
     "output_type": "stream",
     "text": [
      "trees_encountered_list: [65, 237, 59, 61, 38]\n",
      "math.prod(trees_encountered_list): 2106818610\n"
     ]
    }
   ],
   "source": [
    "import math\n",
    "\n",
    "print(f'trees_encountered_list: {trees_encountered_list}')\n",
    "print(f'math.prod(trees_encountered_list): {math.prod(trees_encountered_list)}')\n",
    "# 1008 is too low\n",
    "# 2162867200 too high"
   ]
  }
 ],
 "metadata": {
  "kernelspec": {
   "display_name": "venv",
   "language": "python",
   "name": "python3"
  },
  "language_info": {
   "codemirror_mode": {
    "name": "ipython",
    "version": 3
   },
   "file_extension": ".py",
   "mimetype": "text/x-python",
   "name": "python",
   "nbconvert_exporter": "python",
   "pygments_lexer": "ipython3",
   "version": "3.10.12"
  }
 },
 "nbformat": 4,
 "nbformat_minor": 2
}
