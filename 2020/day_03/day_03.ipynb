{
 "cells": [
  {
   "cell_type": "code",
   "execution_count": 86,
   "metadata": {},
   "outputs": [],
   "source": [
    "with open('test_input.txt', 'r') as infile:\n",
    "  tree_grid = infile.read().split('\\n')"
   ]
  },
  {
   "cell_type": "code",
   "execution_count": 87,
   "metadata": {},
   "outputs": [],
   "source": [
    "# trees_encountered = 0\n",
    "# cur_x = 0\n",
    "# tree_grid_width = len(tree_grid[0])"
   ]
  },
  {
   "cell_type": "code",
   "execution_count": 88,
   "metadata": {},
   "outputs": [],
   "source": [
    "# for line in tree_grid:\n",
    "#   if line[cur_x] == '#':\n",
    "#     trees_encountered += 1\n",
    "#   cur_x = (cur_x + 3) % tree_grid_width\n",
    "  \n",
    "# print(f'trees_encountered: {trees_encountered}')"
   ]
  },
  {
   "cell_type": "code",
   "execution_count": 89,
   "metadata": {},
   "outputs": [
    {
     "data": {
      "text/plain": [
       "'\\n  Right 1, down 1.\\n  Right 3, down 1. (This is the slope you already checked.)\\n  Right 5, down 1.\\n  Right 7, down 1.\\n  Right 1, down 2.\\n'"
      ]
     },
     "execution_count": 89,
     "metadata": {},
     "output_type": "execute_result"
    }
   ],
   "source": [
    "trees_encountered_list = []\n",
    "cur_x = 0\n",
    "tree_grid_width = len(tree_grid[0])\n",
    "\n",
    "'''\n",
    "  Right 1, down 1.\n",
    "  Right 3, down 1. (This is the slope you already checked.)\n",
    "  Right 5, down 1.\n",
    "  Right 7, down 1.\n",
    "  Right 1, down 2.\n",
    "'''"
   ]
  },
  {
   "cell_type": "code",
   "execution_count": 90,
   "metadata": {},
   "outputs": [],
   "source": [
    "for slope in [1,3,5,7]:\n",
    "  trees_encountered = 0\n",
    "  cur_x = 0\n",
    "  for line in tree_grid:\n",
    "    if line[cur_x] == '#':\n",
    "      trees_encountered += 1\n",
    "    cur_x = (cur_x + slope) % tree_grid_width\n",
    "  trees_encountered_list.append(trees_encountered)"
   ]
  },
  {
   "cell_type": "code",
   "execution_count": 97,
   "metadata": {},
   "outputs": [
    {
     "name": "stdout",
     "output_type": "stream",
     "text": [
      "line: ..##......., cur_x: 0\n",
      "line: .#....#..#., cur_x: 1ding!\n",
      "line: .#...##..#., cur_x: 2\n",
      "line: .#.#.#....#, cur_x: 3ding!\n",
      "line: #.##...#..., cur_x: 4\n",
      "line: .#..#...#.#, cur_x: 5\n"
     ]
    }
   ],
   "source": [
    "cur_x = 0\n",
    "trees_encountered = 0\n",
    "for line in tree_grid[::2]:\n",
    "  print(f'line: {line}, cur_x: {cur_x}')\n",
    "  if line[cur_x] == '#':\n",
    "    trees_encountered += 1\n",
    "  cur_x = (cur_x + 1) % tree_grid_width\n",
    "  \n",
    "trees_encountered_list.append(trees_encountered)"
   ]
  },
  {
   "cell_type": "code",
   "execution_count": 92,
   "metadata": {},
   "outputs": [
    {
     "name": "stdout",
     "output_type": "stream",
     "text": [
      "trees_encountered_list: [2, 7, 3, 4, 6]\n",
      "math.prod(trees_encountered_list): 1008\n"
     ]
    }
   ],
   "source": [
    "import math\n",
    "\n",
    "print(f'trees_encountered_list: {trees_encountered_list}')\n",
    "print(f'math.prod(trees_encountered_list): {math.prod(trees_encountered_list)}')\n",
    "# 1008 is too low\n",
    "# 2162867200 too high"
   ]
  }
 ],
 "metadata": {
  "kernelspec": {
   "display_name": "venv",
   "language": "python",
   "name": "python3"
  },
  "language_info": {
   "codemirror_mode": {
    "name": "ipython",
    "version": 3
   },
   "file_extension": ".py",
   "mimetype": "text/x-python",
   "name": "python",
   "nbconvert_exporter": "python",
   "pygments_lexer": "ipython3",
   "version": "3.10.12"
  }
 },
 "nbformat": 4,
 "nbformat_minor": 2
}
