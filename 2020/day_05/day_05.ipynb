{
 "cells": [
  {
   "cell_type": "code",
   "execution_count": 52,
   "metadata": {},
   "outputs": [],
   "source": [
    "with open('input.txt', 'r') as infile:\n",
    "  boarding_passes = infile.read().split('\\n')\n",
    "\n",
    "# boarding_passes = ['FBFBBFFRLR']"
   ]
  },
  {
   "cell_type": "code",
   "execution_count": 53,
   "metadata": {},
   "outputs": [],
   "source": [
    "def binary_boarding(boarding_pass_string):\n",
    "  min_row = 0\n",
    "  max_row = 127\n",
    "  min_col = 0\n",
    "  max_col = 7\n",
    "  for char_index, char in enumerate(boarding_pass_string):\n",
    "    if char == 'F':\n",
    "      midpoint = min_row + ((max_row - min_row) // 2)\n",
    "      max_row = midpoint\n",
    "    elif char == 'B':\n",
    "      midpoint = min_row + ((max_row - min_row) // 2) + 1\n",
    "      min_row = midpoint\n",
    "    elif char == 'L':\n",
    "      midpoint = min_col + ((max_col - min_col) // 2)\n",
    "      max_col = midpoint\n",
    "    elif char == 'R':\n",
    "      midpoint = min_col + ((max_col - min_col) // 2) + 1\n",
    "      min_col = midpoint\n",
    "    # print(f'min_row: {min_row}, max_row: {max_row}')\n",
    "    # print(f'min_col: {min_col}, max_col: {max_col}')\n",
    "  return min_row, min_col\n",
    "\n",
    "def get_seat_id(boarding_pass_string):\n",
    "  seat_row, seat_col = binary_boarding(boarding_pass_string)\n",
    "  return (seat_row * 8) + seat_col"
   ]
  },
  {
   "cell_type": "code",
   "execution_count": 54,
   "metadata": {},
   "outputs": [
    {
     "name": "stdout",
     "output_type": "stream",
     "text": [
      "seat_row: 59, seat_col: 3\n"
     ]
    }
   ],
   "source": [
    "seat_row, seat_col = binary_boarding(boarding_passes[0])\n",
    "print(f'seat_row: {seat_row}, seat_col: {seat_col}')\n"
   ]
  },
  {
   "cell_type": "code",
   "execution_count": null,
   "metadata": {},
   "outputs": [],
   "source": [
    "# print(f'seat ID: {(seat_row * 8) + seat_col}')\n",
    "max_seat_id = max([get_seat_id(boarding_pass_string) for boarding_pass_string in boarding_passes])\n",
    "print(f'max_seat_id: {max_seat_id}')\n"
   ]
  },
  {
   "cell_type": "code",
   "execution_count": 88,
   "metadata": {},
   "outputs": [],
   "source": [
    "seats = [binary_boarding(boarding_pass_string) for boarding_pass_string in boarding_passes]\n",
    "seats_in_row_72 = sorted([seat for seat in seats if seat[0] == 72], key=lambda r: r[1])\n",
    "rows_occupied = sorted(set([seat[0] for seat in seats]))\n",
    "all_seat_ids = sorted([get_seat_id(boarding_pass_string) for boarding_pass_string in boarding_passes])\n",
    "no_neighbors = [all_seat_ids[row_index] for row_index in range(1, len(all_seat_ids) - 1) if all_seat_ids[row_index - 1] != all_seat_ids[row_index] - 1 or all_seat_ids[row_index + 1] != all_seat_ids[row_index] + 1]\n",
    "\n"
   ]
  },
  {
   "cell_type": "code",
   "execution_count": 96,
   "metadata": {},
   "outputs": [
    {
     "name": "stdout",
     "output_type": "stream",
     "text": [
      "seats_in_row_72:[(72, 0), (72, 1), (72, 2), (72, 3), (72, 4), (72, 5), (72, 6)]\n"
     ]
    }
   ],
   "source": [
    "# print(f'seats:{seats}')\n",
    "# print(f'rows_occupied: {rows_occupied}')\n",
    "print(f'seats_in_row_72:{seats_in_row_72}')\n",
    "# print(f'all_seat_ids: {all_seat_ids}')\n",
    "# print(f'no_neighbors: {no_neighbors}')\n",
    "# seat_id 583 is missing"
   ]
  }
 ],
 "metadata": {
  "kernelspec": {
   "display_name": "venv",
   "language": "python",
   "name": "python3"
  },
  "language_info": {
   "codemirror_mode": {
    "name": "ipython",
    "version": 3
   },
   "file_extension": ".py",
   "mimetype": "text/x-python",
   "name": "python",
   "nbconvert_exporter": "python",
   "pygments_lexer": "ipython3",
   "version": "3.10.12"
  }
 },
 "nbformat": 4,
 "nbformat_minor": 2
}
