{
 "cells": [
  {
   "cell_type": "code",
   "execution_count": 19,
   "metadata": {},
   "outputs": [],
   "source": [
    "import json\n",
    "\n",
    "with open('test_input.txt', 'r') as infile:\n",
    "  bag_rules = infile.read().split('\\n')"
   ]
  },
  {
   "cell_type": "code",
   "execution_count": 57,
   "metadata": {},
   "outputs": [],
   "source": [
    "bag_container_rules_dict = dict()\n",
    "\n",
    "for rule in [bag_rule for bag_rule in bag_rules if not bag_rule.endswith('no other bags.')]:\n",
    "  container, rule = rule.split(' bags contain ')\n",
    "  \n",
    "  inside_bags = rule.split(', ')\n",
    "  inside_bags_dict = dict()\n",
    "  for inside_bag in inside_bags:\n",
    "    num_bags, inside_bag = inside_bag[0], inside_bag[2:]\n",
    "    inside_bag = inside_bag.split(' bag')[0]\n",
    "    inside_bags_dict.update({inside_bag: num_bags})\n",
    "  \n",
    "  bag_container_rules_dict.update({container: inside_bags_dict})"
   ]
  },
  {
   "cell_type": "code",
   "execution_count": 112,
   "metadata": {},
   "outputs": [],
   "source": [
    "# print(json.dumps(bag_container_rules_dict, indent=4))"
   ]
  },
  {
   "cell_type": "code",
   "execution_count": 111,
   "metadata": {},
   "outputs": [],
   "source": [
    "bag_containee_rules_dict = dict()\n",
    "\n",
    "for container, inside_bags_dict in bag_container_rules_dict.items():\n",
    "  for inside_bag in inside_bags_dict.keys():\n",
    "    if inside_bag in bag_containee_rules_dict.keys():\n",
    "      bag_containee_rules_dict[inside_bag] = bag_containee_rules_dict[inside_bag].union({container})\n",
    "    else:\n",
    "      bag_containee_rules_dict[inside_bag] = {container}\n",
    "    "
   ]
  },
  {
   "cell_type": "code",
   "execution_count": 110,
   "metadata": {},
   "outputs": [
    {
     "name": "stdout",
     "output_type": "stream",
     "text": [
      "bright white -- {'dark orange', 'light red'}\n",
      "muted yellow -- {'dark orange', 'light red'}\n",
      "shiny gold -- {'bright white', 'muted yellow'}\n",
      "faded blue -- {'vibrant plum', 'dark olive', 'muted yellow'}\n",
      "dark olive -- {'shiny gold'}\n",
      "vibrant plum -- {'shiny gold'}\n",
      "dotted black -- {'dark olive', 'vibrant plum'}\n"
     ]
    }
   ],
   "source": [
    "for inside_bag, container in bag_containee_rules_dict.items():\n",
    "  print(f'{inside_bag} -- {container}')"
   ]
  }
 ],
 "metadata": {
  "kernelspec": {
   "display_name": "venv",
   "language": "python",
   "name": "python3"
  },
  "language_info": {
   "codemirror_mode": {
    "name": "ipython",
    "version": 3
   },
   "file_extension": ".py",
   "mimetype": "text/x-python",
   "name": "python",
   "nbconvert_exporter": "python",
   "pygments_lexer": "ipython3",
   "version": "3.10.12"
  }
 },
 "nbformat": 4,
 "nbformat_minor": 2
}
