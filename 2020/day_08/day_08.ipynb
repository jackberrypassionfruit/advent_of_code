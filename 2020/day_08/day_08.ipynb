{
 "cells": [
  {
   "cell_type": "code",
   "execution_count": null,
   "metadata": {},
   "outputs": [],
   "source": [
    "import json\n",
    "\n",
    "with open('test_input.txt', 'r') as infile:\n",
    "  instructions_str = infile.read().split('\\n')\n",
    "\n",
    "instructions_list = [line.split(' ') for line in instructions_str]\n",
    "instructions_dict = [dict({'word': line[0], 'num': int(line[1])}) for line in instructions_list]"
   ]
  },
  {
   "cell_type": "code",
   "execution_count": null,
   "metadata": {},
   "outputs": [],
   "source": [
    "print(json.dumps(instructions_dict), indent=4)"
   ]
  }
 ],
 "metadata": {
  "language_info": {
   "name": "python"
  }
 },
 "nbformat": 4,
 "nbformat_minor": 2
}
